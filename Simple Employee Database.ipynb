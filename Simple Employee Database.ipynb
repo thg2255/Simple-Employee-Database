{
 "cells": [
  {
   "cell_type": "markdown",
   "id": "5d0c1402",
   "metadata": {},
   "source": [
    "### Simple Employee Database Generator\n",
    "Simple database creating on a csv file that can add records"
   ]
  },
  {
   "cell_type": "code",
   "execution_count": 29,
   "id": "ab402d07-8b11-4e70-bb57-489a8e64cc8a",
   "metadata": {},
   "outputs": [],
   "source": [
    "# Importing CSV functionality\n",
    "# Looking back doing this in pandas would've been so much easier\n",
    "import csv"
   ]
  },
  {
   "cell_type": "code",
   "execution_count": 30,
   "id": "75a3bc61-6842-44ec-93d7-ccdfeb921f11",
   "metadata": {},
   "outputs": [],
   "source": [
    "# Creating the CSV\n",
    "\n",
    "def create_employee_db(file_name, field_names):\n",
    "    # Opens file in write mode\n",
    "    with open(file_name, 'w', newline = '') as csvfile:\n",
    "        # Allows writing data\n",
    "        writer = csv.writer(csvfile)\n",
    "        writer.writerow(field_names)"
   ]
  },
  {
   "cell_type": "code",
   "execution_count": 31,
   "id": "319c80f6-b9ce-41ca-80a7-4ed6bc2fc59f",
   "metadata": {},
   "outputs": [],
   "source": [
    "# Adding the records\n",
    "\n",
    "def add_records(file_name, record):\n",
    "    # Puts csv in append mode\n",
    "    with open(file_name, 'a', newline = '') as csvfile:\n",
    "        writer = csv.writer(csvfile)\n",
    "        writer.writerow(record)"
   ]
  },
  {
   "cell_type": "code",
   "execution_count": 32,
   "id": "c6abf219-dca1-460d-8b4f-7bbcaae2c333",
   "metadata": {},
   "outputs": [],
   "source": [
    "# Defining field names\n",
    "field_names = ['employee_id', 'employee_name', 'salary', 'department_id', 'department_name', 'department_manager']\n",
    "\n",
    "record = ['e1', 'Jones', '2000', 'd1', 'software', 'e1']\n",
    "\n",
    "create_employee_db('Employees.csv', field_names)\n",
    "add_records('Employees.csv', record)"
   ]
  },
  {
   "cell_type": "code",
   "execution_count": 33,
   "id": "27a36832-cf11-428c-aca1-d433c5ae98b7",
   "metadata": {},
   "outputs": [
    {
     "data": {
      "text/plain": [
       "<_csv.reader at 0x230bf229040>"
      ]
     },
     "execution_count": 33,
     "metadata": {},
     "output_type": "execute_result"
    }
   ],
   "source": [
    "csv.reader('Employees.csv', dialect='excel')"
   ]
  },
  {
   "cell_type": "code",
   "execution_count": 34,
   "id": "392d5941-b962-4e47-af49-ecc3c57c155b",
   "metadata": {},
   "outputs": [],
   "source": [
    "# Adding records\n",
    "\n",
    "records = [['e2', 'Smith', '2000', 'd2', 'Sale', 'e2'],\n",
    "          ['e3', 'Brown', '1000', 'd1', 'software', 'e1'],\n",
    "          ['e4', 'White', '1000', 'd1', 'software', 'e1']]\n",
    "\n",
    "for i in records:\n",
    "    add_records('Employees.csv', i)"
   ]
  },
  {
   "cell_type": "code",
   "execution_count": 35,
   "id": "56de9bb3-2b2d-4ade-bf72-1c140bd1af14",
   "metadata": {},
   "outputs": [],
   "source": [
    "def search_records(file_name, attribute, value):\n",
    "    # Array that stores matching records\n",
    "    matches = []\n",
    "    \n",
    "    with open(file_name, 'r', newline = '') as csvfile:\n",
    "        reader = csv.reader(csvfile)\n",
    "        # Going through columns\n",
    "        field_names = next(reader)\n",
    "        \n",
    "        attribute_index = field_names.index(attribute) if attribute in field_names else None\n",
    "        \n",
    "        # Going through rows\n",
    "        for row in reader:\n",
    "            if row[attribute_index] == value:\n",
    "                matches.append(row)\n",
    "                \n",
    "    return matches"
   ]
  },
  {
   "cell_type": "code",
   "execution_count": 37,
   "id": "67712bb6-3f85-49d1-969a-390627e8677f",
   "metadata": {},
   "outputs": [
    {
     "data": {
      "text/plain": [
       "[['e3', 'Brown', '1000', 'd1', 'software', 'e1'],\n",
       " ['e4', 'White', '1000', 'd1', 'software', 'e1']]"
      ]
     },
     "execution_count": 37,
     "metadata": {},
     "output_type": "execute_result"
    }
   ],
   "source": [
    "search_records('Employees.csv', 'salary', '1000')"
   ]
  }
 ],
 "metadata": {
  "kernelspec": {
   "display_name": "Python 3",
   "language": "python",
   "name": "python3"
  },
  "language_info": {
   "codemirror_mode": {
    "name": "ipython",
    "version": 3
   },
   "file_extension": ".py",
   "mimetype": "text/x-python",
   "name": "python",
   "nbconvert_exporter": "python",
   "pygments_lexer": "ipython3",
   "version": "3.8.8"
  }
 },
 "nbformat": 4,
 "nbformat_minor": 5
}
